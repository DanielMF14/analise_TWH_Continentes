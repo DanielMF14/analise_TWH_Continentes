{
 "cells": [
  {
   "cell_type": "markdown",
   "metadata": {},
   "source": [
    "# Vamos analisar a média de produção de Terawatts/Hora em diferentes fontes de energia ao longo de 27 anos. "
   ]
  },
  {
   "cell_type": "code",
   "execution_count": 1,
   "metadata": {},
   "outputs": [],
   "source": [
    "import pandas as pd\n",
    "import numpy as np\n",
    "import matplotlib.pyplot as plt\n",
    "import seaborn as sns\n",
    "import scipy as scp"
   ]
  },
  {
   "cell_type": "code",
   "execution_count": 4,
   "metadata": {},
   "outputs": [
    {
     "data": {
      "text/html": [
       "<div>\n",
       "<style scoped>\n",
       "    .dataframe tbody tr th:only-of-type {\n",
       "        vertical-align: middle;\n",
       "    }\n",
       "\n",
       "    .dataframe tbody tr th {\n",
       "        vertical-align: top;\n",
       "    }\n",
       "\n",
       "    .dataframe thead th {\n",
       "        text-align: right;\n",
       "    }\n",
       "</style>\n",
       "<table border=\"1\" class=\"dataframe\">\n",
       "  <thead>\n",
       "    <tr style=\"text-align: right;\">\n",
       "      <th></th>\n",
       "      <th>Hydro(TWh)</th>\n",
       "      <th>Biofuel(TWh)</th>\n",
       "      <th>Solar PV (TWh)</th>\n",
       "      <th>Geothermal (TWh)</th>\n",
       "    </tr>\n",
       "    <tr>\n",
       "      <th>Year</th>\n",
       "      <th></th>\n",
       "      <th></th>\n",
       "      <th></th>\n",
       "      <th></th>\n",
       "    </tr>\n",
       "  </thead>\n",
       "  <tbody>\n",
       "    <tr>\n",
       "      <th>1990</th>\n",
       "      <td>2191.67</td>\n",
       "      <td>3.88</td>\n",
       "      <td>0.09</td>\n",
       "      <td>36.42</td>\n",
       "    </tr>\n",
       "    <tr>\n",
       "      <th>1991</th>\n",
       "      <td>2268.63</td>\n",
       "      <td>4.19</td>\n",
       "      <td>0.10</td>\n",
       "      <td>37.39</td>\n",
       "    </tr>\n",
       "    <tr>\n",
       "      <th>1992</th>\n",
       "      <td>2267.16</td>\n",
       "      <td>4.63</td>\n",
       "      <td>0.12</td>\n",
       "      <td>39.30</td>\n",
       "    </tr>\n",
       "    <tr>\n",
       "      <th>1993</th>\n",
       "      <td>2397.67</td>\n",
       "      <td>5.61</td>\n",
       "      <td>0.15</td>\n",
       "      <td>40.23</td>\n",
       "    </tr>\n",
       "    <tr>\n",
       "      <th>1994</th>\n",
       "      <td>2419.73</td>\n",
       "      <td>7.31</td>\n",
       "      <td>0.17</td>\n",
       "      <td>41.05</td>\n",
       "    </tr>\n",
       "    <tr>\n",
       "      <th>1995</th>\n",
       "      <td>2545.96</td>\n",
       "      <td>7.95</td>\n",
       "      <td>0.19</td>\n",
       "      <td>39.89</td>\n",
       "    </tr>\n",
       "    <tr>\n",
       "      <th>1996</th>\n",
       "      <td>2583.18</td>\n",
       "      <td>9.45</td>\n",
       "      <td>0.22</td>\n",
       "      <td>42.18</td>\n",
       "    </tr>\n",
       "    <tr>\n",
       "      <th>1997</th>\n",
       "      <td>2614.54</td>\n",
       "      <td>12.08</td>\n",
       "      <td>0.27</td>\n",
       "      <td>42.38</td>\n",
       "    </tr>\n",
       "    <tr>\n",
       "      <th>1998</th>\n",
       "      <td>2628.63</td>\n",
       "      <td>16.07</td>\n",
       "      <td>0.35</td>\n",
       "      <td>45.35</td>\n",
       "    </tr>\n",
       "    <tr>\n",
       "      <th>1999</th>\n",
       "      <td>2636.26</td>\n",
       "      <td>21.52</td>\n",
       "      <td>0.61</td>\n",
       "      <td>48.66</td>\n",
       "    </tr>\n",
       "    <tr>\n",
       "      <th>2000</th>\n",
       "      <td>2695.85</td>\n",
       "      <td>31.34</td>\n",
       "      <td>0.99</td>\n",
       "      <td>51.98</td>\n",
       "    </tr>\n",
       "    <tr>\n",
       "      <th>2001</th>\n",
       "      <td>2638.20</td>\n",
       "      <td>38.45</td>\n",
       "      <td>1.32</td>\n",
       "      <td>51.57</td>\n",
       "    </tr>\n",
       "    <tr>\n",
       "      <th>2002</th>\n",
       "      <td>2711.12</td>\n",
       "      <td>52.85</td>\n",
       "      <td>1.58</td>\n",
       "      <td>52.29</td>\n",
       "    </tr>\n",
       "    <tr>\n",
       "      <th>2003</th>\n",
       "      <td>2726.33</td>\n",
       "      <td>64.23</td>\n",
       "      <td>2.01</td>\n",
       "      <td>54.09</td>\n",
       "    </tr>\n",
       "    <tr>\n",
       "      <th>2004</th>\n",
       "      <td>2894.22</td>\n",
       "      <td>84.43</td>\n",
       "      <td>2.66</td>\n",
       "      <td>56.50</td>\n",
       "    </tr>\n",
       "    <tr>\n",
       "      <th>2005</th>\n",
       "      <td>3019.50</td>\n",
       "      <td>103.92</td>\n",
       "      <td>3.92</td>\n",
       "      <td>58.28</td>\n",
       "    </tr>\n",
       "    <tr>\n",
       "      <th>2006</th>\n",
       "      <td>3124.34</td>\n",
       "      <td>133.05</td>\n",
       "      <td>5.52</td>\n",
       "      <td>59.61</td>\n",
       "    </tr>\n",
       "    <tr>\n",
       "      <th>2007</th>\n",
       "      <td>3165.71</td>\n",
       "      <td>170.83</td>\n",
       "      <td>7.47</td>\n",
       "      <td>62.29</td>\n",
       "    </tr>\n",
       "    <tr>\n",
       "      <th>2008</th>\n",
       "      <td>3285.59</td>\n",
       "      <td>221.05</td>\n",
       "      <td>11.92</td>\n",
       "      <td>64.91</td>\n",
       "    </tr>\n",
       "    <tr>\n",
       "      <th>2009</th>\n",
       "      <td>3338.82</td>\n",
       "      <td>277.44</td>\n",
       "      <td>20.04</td>\n",
       "      <td>67.03</td>\n",
       "    </tr>\n",
       "    <tr>\n",
       "      <th>2010</th>\n",
       "      <td>3530.72</td>\n",
       "      <td>341.38</td>\n",
       "      <td>32.22</td>\n",
       "      <td>68.10</td>\n",
       "    </tr>\n",
       "    <tr>\n",
       "      <th>2011</th>\n",
       "      <td>2603.78</td>\n",
       "      <td>436.01</td>\n",
       "      <td>63.76</td>\n",
       "      <td>69.29</td>\n",
       "    </tr>\n",
       "    <tr>\n",
       "      <th>2012</th>\n",
       "      <td>3765.96</td>\n",
       "      <td>525.04</td>\n",
       "      <td>99.03</td>\n",
       "      <td>70.27</td>\n",
       "    </tr>\n",
       "    <tr>\n",
       "      <th>2013</th>\n",
       "      <td>2898.28</td>\n",
       "      <td>646.36</td>\n",
       "      <td>139.64</td>\n",
       "      <td>71.74</td>\n",
       "    </tr>\n",
       "    <tr>\n",
       "      <th>2014</th>\n",
       "      <td>3976.01</td>\n",
       "      <td>718.07</td>\n",
       "      <td>190.25</td>\n",
       "      <td>77.52</td>\n",
       "    </tr>\n",
       "    <tr>\n",
       "      <th>2015</th>\n",
       "      <td>3989.28</td>\n",
       "      <td>838.31</td>\n",
       "      <td>250.75</td>\n",
       "      <td>80.56</td>\n",
       "    </tr>\n",
       "    <tr>\n",
       "      <th>2016</th>\n",
       "      <td>4162.26</td>\n",
       "      <td>958.15</td>\n",
       "      <td>329.14</td>\n",
       "      <td>82.18</td>\n",
       "    </tr>\n",
       "    <tr>\n",
       "      <th>2017</th>\n",
       "      <td>4197.29</td>\n",
       "      <td>1127.31</td>\n",
       "      <td>443.55</td>\n",
       "      <td>85.34</td>\n",
       "    </tr>\n",
       "  </tbody>\n",
       "</table>\n",
       "</div>"
      ],
      "text/plain": [
       "      Hydro(TWh)  Biofuel(TWh)  Solar PV (TWh)  Geothermal (TWh)\n",
       "Year                                                            \n",
       "1990     2191.67          3.88            0.09             36.42\n",
       "1991     2268.63          4.19            0.10             37.39\n",
       "1992     2267.16          4.63            0.12             39.30\n",
       "1993     2397.67          5.61            0.15             40.23\n",
       "1994     2419.73          7.31            0.17             41.05\n",
       "1995     2545.96          7.95            0.19             39.89\n",
       "1996     2583.18          9.45            0.22             42.18\n",
       "1997     2614.54         12.08            0.27             42.38\n",
       "1998     2628.63         16.07            0.35             45.35\n",
       "1999     2636.26         21.52            0.61             48.66\n",
       "2000     2695.85         31.34            0.99             51.98\n",
       "2001     2638.20         38.45            1.32             51.57\n",
       "2002     2711.12         52.85            1.58             52.29\n",
       "2003     2726.33         64.23            2.01             54.09\n",
       "2004     2894.22         84.43            2.66             56.50\n",
       "2005     3019.50        103.92            3.92             58.28\n",
       "2006     3124.34        133.05            5.52             59.61\n",
       "2007     3165.71        170.83            7.47             62.29\n",
       "2008     3285.59        221.05           11.92             64.91\n",
       "2009     3338.82        277.44           20.04             67.03\n",
       "2010     3530.72        341.38           32.22             68.10\n",
       "2011     2603.78        436.01           63.76             69.29\n",
       "2012     3765.96        525.04           99.03             70.27\n",
       "2013     2898.28        646.36          139.64             71.74\n",
       "2014     3976.01        718.07          190.25             77.52\n",
       "2015     3989.28        838.31          250.75             80.56\n",
       "2016     4162.26        958.15          329.14             82.18\n",
       "2017     4197.29       1127.31          443.55             85.34"
      ]
     },
     "execution_count": 4,
     "metadata": {},
     "output_type": "execute_result"
    }
   ],
   "source": [
    "df = pd.read_csv(\"renewablePowerGeneration97-17.xls\", index_col='Year')\n",
    "df"
   ]
  },
  {
   "cell_type": "code",
   "execution_count": 5,
   "metadata": {},
   "outputs": [
    {
     "data": {
      "text/html": [
       "<div>\n",
       "<style scoped>\n",
       "    .dataframe tbody tr th:only-of-type {\n",
       "        vertical-align: middle;\n",
       "    }\n",
       "\n",
       "    .dataframe tbody tr th {\n",
       "        vertical-align: top;\n",
       "    }\n",
       "\n",
       "    .dataframe thead th {\n",
       "        text-align: right;\n",
       "    }\n",
       "</style>\n",
       "<table border=\"1\" class=\"dataframe\">\n",
       "  <thead>\n",
       "    <tr style=\"text-align: right;\">\n",
       "      <th></th>\n",
       "      <th>Hydro(TWh)</th>\n",
       "      <th>Biofuel(TWh)</th>\n",
       "      <th>Solar PV (TWh)</th>\n",
       "      <th>Geothermal (TWh)</th>\n",
       "    </tr>\n",
       "  </thead>\n",
       "  <tbody>\n",
       "    <tr>\n",
       "      <th>count</th>\n",
       "      <td>28.000</td>\n",
       "      <td>28.000</td>\n",
       "      <td>28.000</td>\n",
       "      <td>28.000</td>\n",
       "    </tr>\n",
       "    <tr>\n",
       "      <th>mean</th>\n",
       "      <td>2974.167</td>\n",
       "      <td>245.032</td>\n",
       "      <td>57.430</td>\n",
       "      <td>57.014</td>\n",
       "    </tr>\n",
       "    <tr>\n",
       "      <th>std</th>\n",
       "      <td>595.937</td>\n",
       "      <td>329.275</td>\n",
       "      <td>113.344</td>\n",
       "      <td>14.851</td>\n",
       "    </tr>\n",
       "    <tr>\n",
       "      <th>min</th>\n",
       "      <td>2191.670</td>\n",
       "      <td>3.880</td>\n",
       "      <td>0.090</td>\n",
       "      <td>36.420</td>\n",
       "    </tr>\n",
       "    <tr>\n",
       "      <th>25%</th>\n",
       "      <td>2598.630</td>\n",
       "      <td>11.422</td>\n",
       "      <td>0.258</td>\n",
       "      <td>42.330</td>\n",
       "    </tr>\n",
       "    <tr>\n",
       "      <th>50%</th>\n",
       "      <td>2718.725</td>\n",
       "      <td>74.330</td>\n",
       "      <td>2.335</td>\n",
       "      <td>55.295</td>\n",
       "    </tr>\n",
       "    <tr>\n",
       "      <th>75%</th>\n",
       "      <td>3298.898</td>\n",
       "      <td>365.038</td>\n",
       "      <td>40.105</td>\n",
       "      <td>68.398</td>\n",
       "    </tr>\n",
       "    <tr>\n",
       "      <th>max</th>\n",
       "      <td>4197.290</td>\n",
       "      <td>1127.310</td>\n",
       "      <td>443.550</td>\n",
       "      <td>85.340</td>\n",
       "    </tr>\n",
       "  </tbody>\n",
       "</table>\n",
       "</div>"
      ],
      "text/plain": [
       "       Hydro(TWh)  Biofuel(TWh)  Solar PV (TWh)  Geothermal (TWh)\n",
       "count      28.000        28.000          28.000            28.000\n",
       "mean     2974.167       245.032          57.430            57.014\n",
       "std       595.937       329.275         113.344            14.851\n",
       "min      2191.670         3.880           0.090            36.420\n",
       "25%      2598.630        11.422           0.258            42.330\n",
       "50%      2718.725        74.330           2.335            55.295\n",
       "75%      3298.898       365.038          40.105            68.398\n",
       "max      4197.290      1127.310         443.550            85.340"
      ]
     },
     "execution_count": 5,
     "metadata": {},
     "output_type": "execute_result"
    }
   ],
   "source": [
    "# Vamos fazer uma descrição dos dados:\n",
    "df.describe().round(3)"
   ]
  },
  {
   "cell_type": "markdown",
   "metadata": {},
   "source": [
    "* Vamos ultilizar a tecnica de IQR para encontar outliers nas nossas variáveis."
   ]
  },
  {
   "cell_type": "code",
   "execution_count": 15,
   "metadata": {},
   "outputs": [
    {
     "data": {
      "text/plain": [
       "'Q1: 2598.63'"
      ]
     },
     "metadata": {},
     "output_type": "display_data"
    },
    {
     "data": {
      "text/plain": [
       "'Q3: 3298.8975'"
      ]
     },
     "metadata": {},
     "output_type": "display_data"
    },
    {
     "data": {
      "text/plain": [
       "'IQR: 700.2674999999999'"
      ]
     },
     "metadata": {},
     "output_type": "display_data"
    },
    {
     "data": {
      "text/plain": [
       "'Limite Inferior: 1548.2287500000002'"
      ]
     },
     "metadata": {},
     "output_type": "display_data"
    },
    {
     "data": {
      "text/plain": [
       "'Limite Superior: 4349.29875'"
      ]
     },
     "metadata": {},
     "output_type": "display_data"
    },
    {
     "data": {
      "text/plain": [
       "'Outliers:'"
      ]
     },
     "metadata": {},
     "output_type": "display_data"
    },
    {
     "data": {
      "text/plain": [
       "Year\n",
       "1990    False\n",
       "1991    False\n",
       "1992    False\n",
       "1993    False\n",
       "1994    False\n",
       "1995    False\n",
       "1996    False\n",
       "1997    False\n",
       "1998    False\n",
       "1999    False\n",
       "2000    False\n",
       "2001    False\n",
       "2002    False\n",
       "2003    False\n",
       "2004    False\n",
       "2005    False\n",
       "2006    False\n",
       "2007    False\n",
       "2008    False\n",
       "2009    False\n",
       "2010    False\n",
       "2011    False\n",
       "2012    False\n",
       "2013    False\n",
       "2014    False\n",
       "2015    False\n",
       "2016    False\n",
       "2017    False\n",
       "Name: Hydro(TWh), dtype: bool"
      ]
     },
     "metadata": {},
     "output_type": "display_data"
    }
   ],
   "source": [
    "# Calculando os quartis da variável hydro:\n",
    "Q1 = df[\"Hydro(TWh)\"].quantile(0.25)  \n",
    "Q3 = df[\"Hydro(TWh)\"].quantile(0.75)  \n",
    "IQR = Q3 - Q1                      \n",
    "\n",
    "# Definindo limites\n",
    "limite_inferior = Q1 - 1.5 * IQR\n",
    "limite_superior = Q3 + 1.5 * IQR\n",
    "\n",
    "# Identificando outliers\n",
    "outliers = (df[\"Hydro(TWh)\"] < limite_inferior) | (df[\"Hydro(TWh)\"] > limite_superior)\n",
    "\n",
    "# Exibindo resultados\n",
    "display(f\"Q1: {Q1}\")\n",
    "display(f\"Q3: {Q3}\")\n",
    "display(f\"IQR: {IQR}\")\n",
    "display(f\"Limite Inferior: {limite_inferior}\")\n",
    "display(f\"Limite Superior: {limite_superior}\")\n",
    "display(\"Outliers:\")\n",
    "display(outliers)\n"
   ]
  },
  {
   "cell_type": "code",
   "execution_count": 16,
   "metadata": {},
   "outputs": [
    {
     "data": {
      "text/plain": [
       "'Q1: 11.4225'"
      ]
     },
     "metadata": {},
     "output_type": "display_data"
    },
    {
     "data": {
      "text/plain": [
       "'Q3: 365.0375'"
      ]
     },
     "metadata": {},
     "output_type": "display_data"
    },
    {
     "data": {
      "text/plain": [
       "'IQR: 353.615'"
      ]
     },
     "metadata": {},
     "output_type": "display_data"
    },
    {
     "data": {
      "text/plain": [
       "'Limite Inferior: -519.0'"
      ]
     },
     "metadata": {},
     "output_type": "display_data"
    },
    {
     "data": {
      "text/plain": [
       "'Limite Superior: 895.46'"
      ]
     },
     "metadata": {},
     "output_type": "display_data"
    },
    {
     "data": {
      "text/plain": [
       "'Outliers:'"
      ]
     },
     "metadata": {},
     "output_type": "display_data"
    },
    {
     "data": {
      "text/plain": [
       "Year\n",
       "1990    False\n",
       "1991    False\n",
       "1992    False\n",
       "1993    False\n",
       "1994    False\n",
       "1995    False\n",
       "1996    False\n",
       "1997    False\n",
       "1998    False\n",
       "1999    False\n",
       "2000    False\n",
       "2001    False\n",
       "2002    False\n",
       "2003    False\n",
       "2004    False\n",
       "2005    False\n",
       "2006    False\n",
       "2007    False\n",
       "2008    False\n",
       "2009    False\n",
       "2010    False\n",
       "2011    False\n",
       "2012    False\n",
       "2013    False\n",
       "2014    False\n",
       "2015    False\n",
       "2016     True\n",
       "2017     True\n",
       "Name: Biofuel(TWh), dtype: bool"
      ]
     },
     "metadata": {},
     "output_type": "display_data"
    }
   ],
   "source": [
    "#Calculando os quartis da variável Biofuel:\n",
    "Q1 = df[\"Biofuel(TWh)\"].quantile(0.25)  \n",
    "Q3 = df[\"Biofuel(TWh)\"].quantile(0.75)  \n",
    "IQR = Q3 - Q1                      \n",
    "\n",
    "# Definindo limites\n",
    "limite_inferior = Q1 - 1.5 * IQR\n",
    "limite_superior = Q3 + 1.5 * IQR\n",
    "\n",
    "# Identificando outliers\n",
    "outliers = (df[\"Biofuel(TWh)\"] < limite_inferior) | (df[\"Biofuel(TWh)\"] > limite_superior)\n",
    "\n",
    "# Exibindo resultados\n",
    "display(f\"Q1: {Q1}\")\n",
    "display(f\"Q3: {Q3}\")\n",
    "display(f\"IQR: {IQR}\")\n",
    "display(f\"Limite Inferior: {limite_inferior}\")\n",
    "display(f\"Limite Superior: {limite_superior}\")\n",
    "display(\"Outliers:\")\n",
    "display(outliers)\n"
   ]
  },
  {
   "cell_type": "code",
   "execution_count": 14,
   "metadata": {},
   "outputs": [
    {
     "data": {
      "text/plain": [
       "'Q1: 0.2575'"
      ]
     },
     "metadata": {},
     "output_type": "display_data"
    },
    {
     "data": {
      "text/plain": [
       "'Q3: 40.105'"
      ]
     },
     "metadata": {},
     "output_type": "display_data"
    },
    {
     "data": {
      "text/plain": [
       "'IQR: 39.8475'"
      ]
     },
     "metadata": {},
     "output_type": "display_data"
    },
    {
     "data": {
      "text/plain": [
       "'Limite Inferior: -59.513749999999995'"
      ]
     },
     "metadata": {},
     "output_type": "display_data"
    },
    {
     "data": {
      "text/plain": [
       "'Limite Superior: 99.87625'"
      ]
     },
     "metadata": {},
     "output_type": "display_data"
    },
    {
     "data": {
      "text/plain": [
       "'Outliers:'"
      ]
     },
     "metadata": {},
     "output_type": "display_data"
    },
    {
     "data": {
      "text/plain": [
       "Year\n",
       "1990    False\n",
       "1991    False\n",
       "1992    False\n",
       "1993    False\n",
       "1994    False\n",
       "1995    False\n",
       "1996    False\n",
       "1997    False\n",
       "1998    False\n",
       "1999    False\n",
       "2000    False\n",
       "2001    False\n",
       "2002    False\n",
       "2003    False\n",
       "2004    False\n",
       "2005    False\n",
       "2006    False\n",
       "2007    False\n",
       "2008    False\n",
       "2009    False\n",
       "2010    False\n",
       "2011    False\n",
       "2012    False\n",
       "2013     True\n",
       "2014     True\n",
       "2015     True\n",
       "2016     True\n",
       "2017     True\n",
       "Name: Solar PV (TWh), dtype: bool"
      ]
     },
     "execution_count": 14,
     "metadata": {},
     "output_type": "execute_result"
    }
   ],
   "source": [
    "#Calculando os quartis da variável Solar PV:\n",
    "Q1 = df[\"Solar PV (TWh)\"].quantile(0.25)  \n",
    "Q3 = df[\"Solar PV (TWh)\"].quantile(0.75)  \n",
    "IQR = Q3 - Q1                      \n",
    "\n",
    "# Definindo limites\n",
    "limite_inferior = Q1 - 1.5 * IQR\n",
    "limite_superior = Q3 + 1.5 * IQR\n",
    "\n",
    "# Identificando outliers\n",
    "outliers = (df[\"Solar PV (TWh)\"] < limite_inferior) | (df[\"Solar PV (TWh)\"] > limite_superior)\n",
    "\n",
    "# Exibindo resultados\n",
    "display(f\"Q1: {Q1}\")\n",
    "display(f\"Q3: {Q3}\")\n",
    "display(f\"IQR: {IQR}\")\n",
    "display(f\"Limite Inferior: {limite_inferior}\")\n",
    "display(f\"Limite Superior: {limite_superior}\")\n",
    "display(\"Outliers:\")\n",
    "outliers\n"
   ]
  },
  {
   "cell_type": "code",
   "execution_count": 17,
   "metadata": {},
   "outputs": [
    {
     "data": {
      "text/plain": [
       "'Q1: 42.33'"
      ]
     },
     "metadata": {},
     "output_type": "display_data"
    },
    {
     "data": {
      "text/plain": [
       "'Q3: 68.3975'"
      ]
     },
     "metadata": {},
     "output_type": "display_data"
    },
    {
     "data": {
      "text/plain": [
       "'IQR: 26.067499999999995'"
      ]
     },
     "metadata": {},
     "output_type": "display_data"
    },
    {
     "data": {
      "text/plain": [
       "'Limite Inferior: 3.228750000000005'"
      ]
     },
     "metadata": {},
     "output_type": "display_data"
    },
    {
     "data": {
      "text/plain": [
       "'Limite Superior: 107.49874999999999'"
      ]
     },
     "metadata": {},
     "output_type": "display_data"
    },
    {
     "data": {
      "text/plain": [
       "'Outliers:'"
      ]
     },
     "metadata": {},
     "output_type": "display_data"
    },
    {
     "data": {
      "text/plain": [
       "Year\n",
       "1990    False\n",
       "1991    False\n",
       "1992    False\n",
       "1993    False\n",
       "1994    False\n",
       "1995    False\n",
       "1996    False\n",
       "1997    False\n",
       "1998    False\n",
       "1999    False\n",
       "2000    False\n",
       "2001    False\n",
       "2002    False\n",
       "2003    False\n",
       "2004    False\n",
       "2005    False\n",
       "2006    False\n",
       "2007    False\n",
       "2008    False\n",
       "2009    False\n",
       "2010    False\n",
       "2011    False\n",
       "2012    False\n",
       "2013    False\n",
       "2014    False\n",
       "2015    False\n",
       "2016    False\n",
       "2017    False\n",
       "Name: Geothermal (TWh), dtype: bool"
      ]
     },
     "metadata": {},
     "output_type": "display_data"
    }
   ],
   "source": [
    "#Calculando os quartis da variável Geothermal (TWh):\n",
    "Q1 = df[\"Geothermal (TWh)\"].quantile(0.25)  \n",
    "Q3 = df[\"Geothermal (TWh)\"].quantile(0.75)  \n",
    "IQR = Q3 - Q1                      \n",
    "\n",
    "# Definindo limites\n",
    "limite_inferior = Q1 - 1.5 * IQR\n",
    "limite_superior = Q3 + 1.5 * IQR\n",
    "\n",
    "# Identificando outliers\n",
    "outliers = (df[\"Geothermal (TWh)\"] < limite_inferior) | (df[\"Geothermal (TWh)\"] > limite_superior)\n",
    "\n",
    "# Exibindo resultados\n",
    "display(f\"Q1: {Q1}\")\n",
    "display(f\"Q3: {Q3}\")\n",
    "display(f\"IQR: {IQR}\")\n",
    "display(f\"Limite Inferior: {limite_inferior}\")\n",
    "display(f\"Limite Superior: {limite_superior}\")\n",
    "display(\"Outliers:\")\n",
    "display(outliers)"
   ]
  }
 ],
 "metadata": {
  "kernelspec": {
   "display_name": "base",
   "language": "python",
   "name": "python3"
  },
  "language_info": {
   "codemirror_mode": {
    "name": "ipython",
    "version": 3
   },
   "file_extension": ".py",
   "mimetype": "text/x-python",
   "name": "python",
   "nbconvert_exporter": "python",
   "pygments_lexer": "ipython3",
   "version": "3.12.4"
  }
 },
 "nbformat": 4,
 "nbformat_minor": 2
}
